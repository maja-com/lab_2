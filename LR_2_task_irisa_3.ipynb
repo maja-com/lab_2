{
 "cells": [
  {
   "cell_type": "code",
   "execution_count": 1,
   "id": "93f25af7-0d02-43ed-af4c-da74483ca1c2",
   "metadata": {},
   "outputs": [],
   "source": [
    "import numpy as np\n",
    "import matplotlib.pyplot as plt\n",
    "import seaborn as sns\n",
    "from sklearn.datasets import load_iris\n",
    "from sklearn.linear_model import RidgeClassifier\n",
    "from sklearn.model_selection import train_test_split\n",
    "from sklearn import metrics\n",
    "from sklearn.metrics import confusion_matrix\n",
    "from io import BytesIO"
   ]
  },
  {
   "cell_type": "code",
   "execution_count": 3,
   "id": "d20e35ae-b111-4d8e-b444-107f332f6c0b",
   "metadata": {},
   "outputs": [],
   "source": [
    "iris = load_iris()\n",
    "X, y = iris.data, iris.target\n",
    "Xtrain, Xtest, ytrain, ytest = train_test_split(X, y, test_size=0.3, random_state=0)"
   ]
  },
  {
   "cell_type": "code",
   "execution_count": 5,
   "id": "2aead9e7-16d2-41d3-b1f1-3dcce6d1d253",
   "metadata": {},
   "outputs": [],
   "source": [
    "clf = RidgeClassifier(tol=1e-2, solver=\"sag\")\n",
    "clf.fit(Xtrain, ytrain)\n",
    "ypred = clf.predict(Xtest)"
   ]
  },
  {
   "cell_type": "code",
   "execution_count": 7,
   "id": "68e3a5ec-b552-4dc7-917e-3e65c053cc69",
   "metadata": {},
   "outputs": [
    {
     "name": "stdout",
     "output_type": "stream",
     "text": [
      "Accuracy: 0.7556\n",
      "Precision: 0.8333\n",
      "Recall: 0.7556\n",
      "F1 Score: 0.7503\n",
      "Cohen Kappa Score: 0.6431\n",
      "Matthews Corrcoef: 0.6831\n",
      "\n",
      "\t\tClassification Report:\n",
      "               precision    recall  f1-score   support\n",
      "\n",
      "           0       1.00      1.00      1.00        16\n",
      "           1       0.89      0.44      0.59        18\n",
      "           2       0.50      0.91      0.65        11\n",
      "\n",
      "    accuracy                           0.76        45\n",
      "   macro avg       0.80      0.78      0.75        45\n",
      "weighted avg       0.83      0.76      0.75        45\n",
      "\n"
     ]
    }
   ],
   "source": [
    "print('Accuracy:', np.round(metrics.accuracy_score(ytest, ypred), 4))\n",
    "print('Precision:', np.round(metrics.precision_score(ytest, ypred, average='weighted'), 4))\n",
    "print('Recall:', np.round(metrics.recall_score(ytest, ypred, average='weighted'), 4))\n",
    "print('F1 Score:', np.round(metrics.f1_score(ytest, ypred, average='weighted'), 4))\n",
    "print('Cohen Kappa Score:', np.round(metrics.cohen_kappa_score(ytest, ypred), 4))\n",
    "print('Matthews Corrcoef:', np.round(metrics.matthews_corrcoef(ytest, ypred), 4))\n",
    "print('\\n\\t\\tClassification Report:\\n', metrics.classification_report(ytest, ypred))"
   ]
  },
  {
   "cell_type": "code",
   "execution_count": 9,
   "id": "211508aa-116f-4990-af55-82ae6144f926",
   "metadata": {},
   "outputs": [
    {
     "data": {
      "image/png": "[encoded data removed]",
      "text/plain": [
       "<Figure size 640x480 with 1 Axes>"
      ]
     },
     "metadata": {},
     "output_type": "display_data"
    }
   ],
   "source": [
    "mat = confusion_matrix(ytest, ypred)\n",
    "sns.heatmap(mat.T, square=True, annot=True, fmt='d', cbar=False)\n",
    "plt.xlabel('Справжня мітка')\n",
    "plt.ylabel('Передбачена мітка')\n",
    "plt.title('Матриця плутанини')\n",
    "plt.savefig(\"Confusion.jpg\")\n",
    "f = BytesIO()"
   ]
  },
  {
   "cell_type": "code",
   "execution_count": 11,
   "id": "8c135d62-1e9e-4487-9b26-b26680181ae8",
   "metadata": {},
   "outputs": [
    {
     "data": {
      "text/plain": [
       "<Figure size 640x480 with 0 Axes>"
      ]
     },
     "metadata": {},
     "output_type": "display_data"
    }
   ],
   "source": [
    "\n",
    "plt.savefig(f, format=\"svg\")\n",
    "plt.show()"
   ]
  }
 ],
 "metadata": {
  "kernelspec": {
   "display_name": "Python 3 (ipykernel)",
   "language": "python",
   "name": "python3"
  },
  "language_info": {
   "codemirror_mode": {
    "name": "ipython",
    "version": 3
   },
   "file_extension": ".py",
   "mimetype": "text/x-python",
   "name": "python",
   "nbconvert_exporter": "python",
   "pygments_lexer": "ipython3",
   "version": "3.12.4"
  }
 },
 "nbformat": 4,
 "nbformat_minor": 5
}
